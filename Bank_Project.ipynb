{
 "cells": [
  {
   "cell_type": "code",
   "execution_count": 16,
   "id": "1a910e52-1dd3-4519-8143-7c84326d7dc6",
   "metadata": {},
   "outputs": [],
   "source": [
    "class Bank:\n",
    "    def __init__(self):\n",
    "        self.accounts = {}\n",
    "\n",
    "    def create_account(self, account_number, name, password, initial_balance=0):\n",
    "        if account_number in self.accounts:\n",
    "            print(\"Account number already exists.\")\n",
    "            return False\n",
    "        self.accounts[account_number] = {\n",
    "            'name': name,\n",
    "            'password': password,\n",
    "            'balance': initial_balance\n",
    "        }\n",
    "        print(f\"Account created for {name}.\")\n",
    "        return True\n",
    "\n",
    "    def login(self, account_number, password):\n",
    "        account = self.accounts.get(account_number)\n",
    "        if account and account['password'] == password:\n",
    "            print(f\"Welcome {account['name']}!\")\n",
    "            return True\n",
    "        else:\n",
    "            print(\"Invalid account number or password.\")\n",
    "            return False\n",
    "\n",
    "    def deposit(self, account_number, amount):\n",
    "        if amount <= 0:\n",
    "            print(\"Deposit amount must be positive.\")\n",
    "            return False\n",
    "        self.accounts[account_number]['balance'] += amount\n",
    "        print(f\"Deposited {amount}. New balance: {self.accounts[account_number]['balance']}\")\n",
    "        return True\n",
    "\n",
    "    def withdraw(self, account_number, amount):\n",
    "        if amount <= 0:\n",
    "            print(\"Withdrawal amount must be positive.\")\n",
    "            return False\n",
    "        if self.accounts[account_number]['balance'] < amount:\n",
    "            print(\"Insufficient balance.\")\n",
    "            return False\n",
    "        self.accounts[account_number]['balance'] -= amount\n",
    "        print(f\"Withdrew {amount}. New balance: {self.accounts[account_number]['balance']}\")\n",
    "        return True\n",
    "\n",
    "    def check_balance(self, account_number):\n",
    "        balance = self.accounts[account_number]['balance']\n",
    "        print(f\"Current balance: {balance}\")\n",
    "        return balance"
   ]
  },
  {
   "cell_type": "code",
   "execution_count": 12,
   "id": "15953bb3-e29f-4b74-a582-e3349fbefaab",
   "metadata": {},
   "outputs": [
    {
     "name": "stdout",
     "output_type": "stream",
     "text": [
      "Account created for Hari.\n"
     ]
    },
    {
     "data": {
      "text/plain": [
       "True"
      ]
     },
     "execution_count": 12,
     "metadata": {},
     "output_type": "execute_result"
    }
   ],
   "source": [
    "bank = Bank()\n",
    "bank.create_account('1001', 'Hari', 'Hari1001', 10000)"
   ]
  },
  {
   "cell_type": "code",
   "execution_count": 14,
   "id": "bbfdd60d-7ff4-495b-b24e-c7ba058aa558",
   "metadata": {},
   "outputs": [
    {
     "name": "stdout",
     "output_type": "stream",
     "text": [
      "Welcome Hari!\n",
      "Deposited 500. New balance: 10500\n",
      "Withdrew 100. New balance: 10400\n",
      "Current balance: 10400\n"
     ]
    }
   ],
   "source": [
    "if bank.login('1001', 'Hari1001'):\n",
    "    bank.deposit('1001', 500)\n",
    "    bank.withdraw('1001', 100)\n",
    "    bank.check_balance('1001')"
   ]
  },
  {
   "cell_type": "code",
   "execution_count": null,
   "id": "68217779-9a03-4eab-a777-d875b60c1ba4",
   "metadata": {},
   "outputs": [],
   "source": []
  }
 ],
 "metadata": {
  "kernelspec": {
   "display_name": "Python 3 (ipykernel)",
   "language": "python",
   "name": "python3"
  },
  "language_info": {
   "codemirror_mode": {
    "name": "ipython",
    "version": 3
   },
   "file_extension": ".py",
   "mimetype": "text/x-python",
   "name": "python",
   "nbconvert_exporter": "python",
   "pygments_lexer": "ipython3",
   "version": "3.12.4"
  }
 },
 "nbformat": 4,
 "nbformat_minor": 5
}
